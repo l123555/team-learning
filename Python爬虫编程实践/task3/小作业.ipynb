{
 "cells": [
  {
   "cell_type": "markdown",
   "metadata": {},
   "source": [
    "# 作业"
   ]
  },
  {
   "cell_type": "markdown",
   "metadata": {},
   "source": [
    "**Q1: 怎么在ip被封之后实现自动更换代理池内的代理？**\n",
    "\n",
    "A1: 用random.choice 随机选取ip\n",
    "\n",
    "**Q2: 如何用一句通俗的语言解释清楚request、beautifulsoup和selenium三者与浏览器之间的关系？**\n",
    "\n",
    "A2: BeautifulSoup：处理速度快，同时可以**连续**查找，主要**用于静态网页** \n",
    "\n",
    "经过BeautifulSoup处理以后，编码方式都变成了Unicode,需要将其变成所需的编码方式：可以利用encode(‘需要的编码’)，还可以利用 BeautifulSoup(网页/html, lxml/xml”).prettify(‘需要的编码’) 可以利用soup.original_encoding检测原来的编码。\n",
    "Selenium：主要用于**动态网页**，查找速度慢，解析时要注意 .find_**elements**_by_xpath和.find_**element**_by_xpath有区别，同时利用浏览器时要配置。 .PhantomJS： \n",
    "drive=webdriver.PhantomJS(‘D:\\Anaconda2\\phantomjswindow**s\\bin**phantomjs.exe’) \n",
    "\n",
    "**Q3: 构建好代理池后，如何在一次爬虫中自动切换代理？ 比如代理无效，或者代理ip被封，这时自动切换下一个ip。**\n",
    "\n",
    "A3: 首先你要有一个ip代理池（如果比较豪可以自己买真实ip自行搭建，好处独享有技术门槛,或者找第三方ip代理商对接,好吃廉价,但ip不独享）， 真实ip需要自己写程序来代理转发，第三方ip代理商则会提供相关转发API,直接调用就可以，这东西没什么技术难度 \n",
    "\n",
    "**Q4: ip_list.append(f'{protpcol}://{ip}:{port}')这里的f是格式化？**\n",
    "\n",
    "A4:\n",
    "\n",
    "1. 从代理*ip*网站爬取*IP*地址及端口号并储存\n",
    "2. 验证*ip*是否能用\n",
    "3. 格式化*ip*地址\n",
    "4. 在*requests*中使用代理*ip*爬取网站"
   ]
  },
  {
   "cell_type": "markdown",
   "metadata": {},
   "source": [
    "# 小项目\n",
    "1. 挑战项目：模拟登录丁香园，并抓取论坛页面所有的人员基本信息与回复帖子内容。\n",
    "2. 丁香园论坛：[http://www.dxy.cn/bbs/thread/626626#626626](http://www.dxy.cn/bbs/thread/626626#626626) 。"
   ]
  },
  {
   "cell_type": "code",
   "execution_count": 1,
   "metadata": {},
   "outputs": [],
   "source": [
    "import requests, json, re, random,time\n",
    "from bs4 import BeautifulSoup\n",
    "from selenium import webdriver\n",
    "from lxml import etree\n"
   ]
  },
  {
   "cell_type": "code",
   "execution_count": 9,
   "metadata": {},
   "outputs": [
    {
     "name": "stdout",
     "output_type": "stream",
     "text": [
      "*****抓取结束*****\n"
     ]
    }
   ],
   "source": [
    "\n",
    "class getUrl(object):\n",
    "\t\"\"\"docstring for getUrl\"\"\"\n",
    "\tdef __init__(self):\n",
    "\t\tself.headers={\n",
    "            \"Connection\": \"keep-alive\",\n",
    "            \"User-Agent\": \"Mozilla/5.0 (Windows NT 10.0; WOW64) AppleWebKit/537.36 \"  \n",
    "                          \"(KHTML, like Gecko) Chrome/51.0.2704.63 Safari/537.36\",\n",
    "            \"Accept\": \"text/html,application/xhtml+xml,application/xml;q=0.9,image/webp,*/*;q=0.8\",\n",
    "            \"Accept-Encoding\": \"gzip, deflate, sdch\",\n",
    "            \"Accept-Language\": \"zh-CN,zh;q=0.8\"\n",
    "        };\n",
    "\n",
    "\tdef run(self):\n",
    "\t\tbrowser = webdriver.Chrome('D:\\software\\Google\\Chrome\\Application\\chromedriver.exe')\n",
    "\t\tbrowser.get('https://auth.dxy.cn/accounts/login?service=http://www.dxy.cn/bbs/index.html')\n",
    "\t\ttime.sleep(1)\n",
    "\t\t#切换账号密码登录表单\n",
    "\t\tjs1 = 'document.querySelector(\"#j_loginTab1\").style.display=\"none\";'\n",
    "\t\tbrowser.execute_script(js1)\n",
    "\t\ttime.sleep(1)\n",
    "\t\tjs2 = 'document.querySelector(\"#j_loginTab2\").style.display=\"block\";'\n",
    "\t\tbrowser.execute_script(js2)\n",
    "\t\t#输入账号密码\n",
    "\t\tinput_name = browser.find_element_by_name('username')\n",
    "\t\tinput_name.clear()\n",
    "\t\tinput_name.send_keys('*')# 这里为自己账号和密码\n",
    "\t\tinput_pass = browser.find_element_by_name('password')\n",
    "\t\tinput_pass.clear()\n",
    "\t\tinput_pass.send_keys('*')\n",
    "\t\tbrowser.find_element_by_xpath('//*[@class=\"form__button\"]/button').click()\n",
    "\t\t#此步骤应该有验证码，先跳过\n",
    "\t\ttime.sleep(10)\n",
    "\t\tcookie = browser.get_cookies()\n",
    "\t\tcookie_dict = {i['name']:i['value'] for i in cookie}\n",
    "\t\t#转到抓取页面\n",
    "\t\tbrowser.get(\"http://www.dxy.cn/bbs/thread/626626#626626\");\n",
    "\t\thtml = browser.page_source\n",
    "\t\ttree = etree.HTML(html)\n",
    "\t\tuser = tree.xpath('//div[@id=\"postcontainer\"]//div[@class=\"auth\"]/a/text()')\n",
    "\t\tcontent = tree.xpath('//td[@class=\"postbody\"]')\n",
    "\t\tfor i in range(0,len(user)):\n",
    "\t\t\tresult = user[i].strip()+\":\"+content[i].xpath('string(.)').strip()\n",
    "\t\t\t#写入文件\n",
    "\t\t\tdir_file = open(\"DXY_records.txt\",'a', encoding=\"utf-8\")\n",
    "\t\t\tdir_file.write(result+\"\\n\")\n",
    "\t\t\tdir_file.write('*' * 80+\"\\n\")\n",
    "\t\t\tdir_file.close()\n",
    "\t\tprint('*' * 5 +\"抓取结束\"+'*' * 5)\n",
    "\n",
    "\n",
    "if __name__ == '__main__':\n",
    "\tgeturl = getUrl()\n",
    "\tgeturl.run()\n"
   ]
  },
  {
   "cell_type": "code",
   "execution_count": null,
   "metadata": {},
   "outputs": [],
   "source": []
  }
 ],
 "metadata": {
  "kernelspec": {
   "display_name": "Python 3",
   "language": "python",
   "name": "python3"
  },
  "language_info": {
   "codemirror_mode": {
    "name": "ipython",
    "version": 3
   },
   "file_extension": ".py",
   "mimetype": "text/x-python",
   "name": "python",
   "nbconvert_exporter": "python",
   "pygments_lexer": "ipython3",
   "version": "3.7.4"
  }
 },
 "nbformat": 4,
 "nbformat_minor": 2
}
